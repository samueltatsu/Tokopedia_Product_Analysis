{
 "cells": [
  {
   "cell_type": "markdown",
   "metadata": {},
   "source": [
    "# Graded Challenge 3\n",
    "\n",
    "Nama  : Samuel Tatang Surja <br>\n",
    "Batch : HCK-012 <br>\n",
    "Objectives: Sebagai ide usaha sampingan, saya perlu melakukan riset market terlebih dahulu. Untuk itu saya akan menganalisa data dengan melakukan web scraping dari halaman pencarian produk 'seblak' di website tokopedia. Merumuskan target yang ingin dicapai dengan bantuan skema SMART, kemudian menganalisa data yang telah dibersihkan sebelumnya dan mencatat insight yang didapat dari analisa tersebut. Mengambil kesimpulan berdasarkan data untuk memutuskan langkah yang akan dilakukan supaya mencapai target yang telah ditentukan."
   ]
  },
  {
   "cell_type": "markdown",
   "metadata": {},
   "source": [
    "## 1. Web Scraping\n",
    "\n",
    "Dalam tahap ini, saya akan mengambil data dari website tokopedia. Tepatnya halaman yang menampilkan produk-produk dengan komponen 'seblak' di namanya."
   ]
  },
  {
   "cell_type": "markdown",
   "metadata": {},
   "source": [
    "### Preparation"
   ]
  },
  {
   "cell_type": "markdown",
   "metadata": {},
   "source": [
    "Pertama-tama saya perlu memasukkan library yang akan diperlukan, antara lain: <br>\n",
    "- selenium.webdriver : untuk memungkinkan program mengakses browser. <br>\n",
    "- bs4.BeautifulSoup : untuk membaca HTML yang digunakan dalam proses web scraping. <br>\n",
    "- time : untuk memberi jeda ketika driver membuka page -> memberi waktu yang konsisten untuk program membaca dan mengekstrak informasi\n",
    "- requests : untuk mengajukan HTTP requests dengan tampilan API sederhana."
   ]
  },
  {
   "cell_type": "code",
   "execution_count": 1,
   "metadata": {},
   "outputs": [],
   "source": [
    "from selenium import webdriver\n",
    "from bs4 import BeautifulSoup\n",
    "import time\n",
    "import requests"
   ]
  },
  {
   "cell_type": "markdown",
   "metadata": {},
   "source": [
    "Buka website di browser dengan menggunakan webdriver."
   ]
  },
  {
   "cell_type": "code",
   "execution_count": 43,
   "metadata": {},
   "outputs": [],
   "source": [
    "driver = webdriver.Edge()"
   ]
  },
  {
   "cell_type": "markdown",
   "metadata": {},
   "source": [
    "### Scraping Proccess"
   ]
  },
  {
   "cell_type": "markdown",
   "metadata": {},
   "source": [
    "Data yang ingin saya ambil antara lain:\n",
    "- Nama Produk\n",
    "- Harga Produk\n",
    "- Penjual\n",
    "- Kota Toko\n",
    "- Banyaknya Terjual\n",
    "- Rating Produk"
   ]
  },
  {
   "cell_type": "markdown",
   "metadata": {},
   "source": [
    "Saya akan mengambil 6 informasi tersebut dari setiap produk yang terdapat di halaman 1-10."
   ]
  },
  {
   "cell_type": "code",
   "execution_count": 50,
   "metadata": {},
   "outputs": [],
   "source": [
    "# create empty lists to store data\n",
    "list_nama = []\n",
    "list_harga = []\n",
    "list_penjual = []\n",
    "list_kota = []\n",
    "list_total_terjual = []\n",
    "list_rating = []\n",
    "\n",
    "\n",
    "# loop to scrape page 1-10\n",
    "for page in range(1,11):\n",
    "    url = f'https://www.tokopedia.com/search?navsource=&page={page}&q=seblak&srp_component_id=02.01.00.00&srp_page_id=&srp_page_title=&st='\n",
    "    driver.get(url)\n",
    "\n",
    "    html = driver.page_source\n",
    "    soup = BeautifulSoup(html, 'html.parser')\n",
    "\n",
    "    # store all 'boxes' in a variable\n",
    "    boxes = soup.find_all('div', {'class': 'css-1asz3by'})\n",
    "\n",
    "    for box in boxes:\n",
    "        # load each information to the list but input None if no information is available to keep consistent indexing\n",
    "        try:\n",
    "            nama = box.find('div', {'class':\"prd_link-product-name css-3um8ox\", 'data-testid':\"spnSRPProdName\"})\n",
    "            list_nama.append(nama.get_text())\n",
    "        except:\n",
    "            list_nama.append(None)\n",
    "\n",
    "        try:\n",
    "            harga = box.find('div', {'class':\"prd_link-product-price css-h66vau\", 'data-testid':\"spnSRPProdPrice\"})\n",
    "            list_harga.append(harga.get_text())\n",
    "        except:\n",
    "            list_harga.append(None)\n",
    "\n",
    "        try:\n",
    "            penjual = box.find('span', {'class':\"prd_link-shop-name css-1kdc32b flip\", 'data-testid':\"\"})\n",
    "            list_penjual.append(penjual.get_text())\n",
    "        except:\n",
    "            list_penjual.append(None)\n",
    "\n",
    "        try:\n",
    "            kota = box.find('span', {'class':\"prd_link-shop-loc css-1kdc32b flip\", 'data-testid':\"spnSRPProdTabShopLoc\"})\n",
    "            list_kota.append(kota.get_text())\n",
    "        except:\n",
    "            list_kota.append(None)\n",
    "\n",
    "        try:\n",
    "            total_terjual = box.find('span', {'class':\"prd_label-integrity css-1sgek4h\", 'data-testid':\"\"})\n",
    "            list_total_terjual.append(total_terjual.get_text())\n",
    "        except:\n",
    "            list_total_terjual.append(None)\n",
    "\n",
    "        try:\n",
    "            rating = box.find('span', {'class':\"prd_rating-average-text css-t70v7i\", 'data-testid':\"\"})\n",
    "            list_rating.append(rating.get_text())\n",
    "        except:\n",
    "            list_rating.append(None)\n",
    "    # give 3 seconds delay inbetween page loading \n",
    "    time.sleep(3)"
   ]
  },
  {
   "cell_type": "markdown",
   "metadata": {},
   "source": [
    "Sekarang saya memiliki list dari masing-masing data yang saya butuhkan. <br><br>\n",
    "\\# Note: <br>\n",
    "Ada kemungkinan tidak semua produk dari setiap halaman berhasil diambil. Hal ini sangat normal terjadi dikarenakan faktor seperti kecepatan internet, kinerja komputer, situasi server website dan lain sebagainya."
   ]
  },
  {
   "cell_type": "markdown",
   "metadata": {},
   "source": [
    "Untuk mengubah data tersebut ke dalam bentuk dataframe (lalu kemudian .csv), saya perlu mengecek apakah jumlah data di setiap list sudah sama."
   ]
  },
  {
   "cell_type": "code",
   "execution_count": 52,
   "metadata": {},
   "outputs": [
    {
     "name": "stdout",
     "output_type": "stream",
     "text": [
      "Jumlah data per kolom sudah sama: 376\n"
     ]
    }
   ],
   "source": [
    "if (len(list_nama) == \n",
    "    len(list_harga) == \n",
    "    len(list_penjual) == \n",
    "    len(list_kota) == \n",
    "    len(list_total_terjual) == \n",
    "    len(list_rating)):  ## expected output: True\n",
    "    print(f'Jumlah data per kolom sudah sama: {len(list_nama)}')\n",
    "else:\n",
    "    print('Jumlah data per kolom tidak sama!')"
   ]
  },
  {
   "cell_type": "markdown",
   "metadata": {},
   "source": [
    "Bisa dilihat bahwa jumlah data yang berhasil diperoleh dari proses web scraping ini sudah sama, <br>\n",
    "artinya web scraping telah berhasil dan data bisa disimpan untuk selanjutnya diolah."
   ]
  },
  {
   "cell_type": "markdown",
   "metadata": {},
   "source": [
    "Saya akan menyimpan data yang diperoleh sebagai dataframe."
   ]
  },
  {
   "cell_type": "code",
   "execution_count": 2,
   "metadata": {},
   "outputs": [],
   "source": [
    "import pandas as pd"
   ]
  },
  {
   "cell_type": "code",
   "execution_count": 54,
   "metadata": {},
   "outputs": [
    {
     "data": {
      "text/html": [
       "<div>\n",
       "<style scoped>\n",
       "    .dataframe tbody tr th:only-of-type {\n",
       "        vertical-align: middle;\n",
       "    }\n",
       "\n",
       "    .dataframe tbody tr th {\n",
       "        vertical-align: top;\n",
       "    }\n",
       "\n",
       "    .dataframe thead th {\n",
       "        text-align: right;\n",
       "    }\n",
       "</style>\n",
       "<table border=\"1\" class=\"dataframe\">\n",
       "  <thead>\n",
       "    <tr style=\"text-align: right;\">\n",
       "      <th></th>\n",
       "      <th>nama_produk</th>\n",
       "      <th>harga_produk</th>\n",
       "      <th>nama_penjual</th>\n",
       "      <th>kota_toko</th>\n",
       "      <th>total_terjual</th>\n",
       "      <th>rating</th>\n",
       "    </tr>\n",
       "  </thead>\n",
       "  <tbody>\n",
       "    <tr>\n",
       "      <th>0</th>\n",
       "      <td>None</td>\n",
       "      <td>None</td>\n",
       "      <td>None</td>\n",
       "      <td>None</td>\n",
       "      <td>10 terjual</td>\n",
       "      <td>5.0</td>\n",
       "    </tr>\n",
       "    <tr>\n",
       "      <th>1</th>\n",
       "      <td>None</td>\n",
       "      <td>None</td>\n",
       "      <td>None</td>\n",
       "      <td>None</td>\n",
       "      <td>8 rb+ terjual</td>\n",
       "      <td>4.9</td>\n",
       "    </tr>\n",
       "    <tr>\n",
       "      <th>2</th>\n",
       "      <td>None</td>\n",
       "      <td>None</td>\n",
       "      <td>None</td>\n",
       "      <td>None</td>\n",
       "      <td>250+ terjual</td>\n",
       "      <td>4.9</td>\n",
       "    </tr>\n",
       "    <tr>\n",
       "      <th>3</th>\n",
       "      <td>Gelifood Seblak Instan Kerupuk Mawar Bumbu Ken...</td>\n",
       "      <td>Rp13.000</td>\n",
       "      <td>Lidigeli</td>\n",
       "      <td>Kab. Garut</td>\n",
       "      <td>250+ terjual</td>\n",
       "      <td>4.8</td>\n",
       "    </tr>\n",
       "    <tr>\n",
       "      <th>4</th>\n",
       "      <td>Geli Food Seblak Ceker Tanpa Tulang Super Peda...</td>\n",
       "      <td>Rp22.500</td>\n",
       "      <td>Lidigeli</td>\n",
       "      <td>Kab. Garut</td>\n",
       "      <td>40+ terjual</td>\n",
       "      <td>5.0</td>\n",
       "    </tr>\n",
       "  </tbody>\n",
       "</table>\n",
       "</div>"
      ],
      "text/plain": [
       "                                         nama_produk harga_produk  \\\n",
       "0                                               None         None   \n",
       "1                                               None         None   \n",
       "2                                               None         None   \n",
       "3  Gelifood Seblak Instan Kerupuk Mawar Bumbu Ken...     Rp13.000   \n",
       "4  Geli Food Seblak Ceker Tanpa Tulang Super Peda...     Rp22.500   \n",
       "\n",
       "  nama_penjual   kota_toko  total_terjual rating  \n",
       "0         None        None     10 terjual    5.0  \n",
       "1         None        None  8 rb+ terjual    4.9  \n",
       "2         None        None   250+ terjual    4.9  \n",
       "3     Lidigeli  Kab. Garut   250+ terjual    4.8  \n",
       "4     Lidigeli  Kab. Garut    40+ terjual    5.0  "
      ]
     },
     "execution_count": 54,
     "metadata": {},
     "output_type": "execute_result"
    }
   ],
   "source": [
    "# create new dataframe with suitable column names containing all the data\n",
    "df = pd.DataFrame({\n",
    "    'nama_produk': list_nama,\n",
    "    'harga_produk': list_harga,\n",
    "    'nama_penjual': list_penjual,\n",
    "    'kota_toko': list_kota,\n",
    "    'total_terjual': list_total_terjual,\n",
    "    'rating': list_rating\n",
    "})\n",
    "\n",
    "df.head()"
   ]
  },
  {
   "cell_type": "markdown",
   "metadata": {},
   "source": [
    "Kemudian data mentah tersebut saya simpan ke dalam file .csv yang nantinya akan saya gunakan supaya tidak perlu melakukan web scraping lagi."
   ]
  },
  {
   "cell_type": "code",
   "execution_count": 55,
   "metadata": {},
   "outputs": [],
   "source": [
    "# save dataframe to a .csv file\n",
    "df.to_csv('seblak_raw.csv', index=False)"
   ]
  },
  {
   "cell_type": "markdown",
   "metadata": {},
   "source": [
    "Dengan demikian keseluruhan proses web scraping telah selesai dijalankan."
   ]
  },
  {
   "cell_type": "markdown",
   "metadata": {},
   "source": [
    "## 2. Data preparation\n",
    "\n",
    "Data yang telah diperoleh perlu dirapikan terlebih dahulu. Langkah yang akan dilakukan:\n",
    "- Data Loading: df = pd.read_csv('file.csv') <br>\n",
    "- Data Exploration: df.info(), df.column <br>\n",
    "- Data Cleaning: handle nulls/duplicates, change data type <br>\n",
    "- Data Transformation: drop/insert unused/new column"
   ]
  },
  {
   "cell_type": "markdown",
   "metadata": {},
   "source": [
    "### Data Loading"
   ]
  },
  {
   "cell_type": "code",
   "execution_count": 3,
   "metadata": {},
   "outputs": [],
   "source": [
    "df = pd.read_csv('seblak_raw.csv')"
   ]
  },
  {
   "cell_type": "markdown",
   "metadata": {},
   "source": [
    "Data telah berhasil dimuat dan disimpan ke dalam variabel df"
   ]
  },
  {
   "cell_type": "markdown",
   "metadata": {},
   "source": [
    "### Data Exploration"
   ]
  },
  {
   "cell_type": "markdown",
   "metadata": {},
   "source": [
    "Setelah memuat data, saya akan menjelajahi data tersebut supaya membantu saya merencanakan apa yang akan saya lakukan pada tahap perubahan/pembersihan data. Sebagai permulaan, saya akan menampilkan beberapa baris data."
   ]
  },
  {
   "cell_type": "code",
   "execution_count": 195,
   "metadata": {},
   "outputs": [
    {
     "data": {
      "text/html": [
       "<div>\n",
       "<style scoped>\n",
       "    .dataframe tbody tr th:only-of-type {\n",
       "        vertical-align: middle;\n",
       "    }\n",
       "\n",
       "    .dataframe tbody tr th {\n",
       "        vertical-align: top;\n",
       "    }\n",
       "\n",
       "    .dataframe thead th {\n",
       "        text-align: right;\n",
       "    }\n",
       "</style>\n",
       "<table border=\"1\" class=\"dataframe\">\n",
       "  <thead>\n",
       "    <tr style=\"text-align: right;\">\n",
       "      <th></th>\n",
       "      <th>nama_produk</th>\n",
       "      <th>harga_produk</th>\n",
       "      <th>nama_penjual</th>\n",
       "      <th>kota_toko</th>\n",
       "      <th>total_terjual</th>\n",
       "      <th>rating</th>\n",
       "    </tr>\n",
       "  </thead>\n",
       "  <tbody>\n",
       "    <tr>\n",
       "      <th>0</th>\n",
       "      <td>NaN</td>\n",
       "      <td>NaN</td>\n",
       "      <td>NaN</td>\n",
       "      <td>NaN</td>\n",
       "      <td>10 terjual</td>\n",
       "      <td>5.0</td>\n",
       "    </tr>\n",
       "    <tr>\n",
       "      <th>1</th>\n",
       "      <td>NaN</td>\n",
       "      <td>NaN</td>\n",
       "      <td>NaN</td>\n",
       "      <td>NaN</td>\n",
       "      <td>8 rb+ terjual</td>\n",
       "      <td>4.9</td>\n",
       "    </tr>\n",
       "    <tr>\n",
       "      <th>2</th>\n",
       "      <td>NaN</td>\n",
       "      <td>NaN</td>\n",
       "      <td>NaN</td>\n",
       "      <td>NaN</td>\n",
       "      <td>250+ terjual</td>\n",
       "      <td>4.9</td>\n",
       "    </tr>\n",
       "    <tr>\n",
       "      <th>3</th>\n",
       "      <td>Gelifood Seblak Instan Kerupuk Mawar Bumbu Ken...</td>\n",
       "      <td>Rp13.000</td>\n",
       "      <td>Lidigeli</td>\n",
       "      <td>Kab. Garut</td>\n",
       "      <td>250+ terjual</td>\n",
       "      <td>4.8</td>\n",
       "    </tr>\n",
       "    <tr>\n",
       "      <th>4</th>\n",
       "      <td>Geli Food Seblak Ceker Tanpa Tulang Super Peda...</td>\n",
       "      <td>Rp22.500</td>\n",
       "      <td>Lidigeli</td>\n",
       "      <td>Kab. Garut</td>\n",
       "      <td>40+ terjual</td>\n",
       "      <td>5.0</td>\n",
       "    </tr>\n",
       "    <tr>\n",
       "      <th>5</th>\n",
       "      <td>seblak instan jeletot jajanan hits bandung 1 p...</td>\n",
       "      <td>Rp4.180</td>\n",
       "      <td>tokomakanankalimantan</td>\n",
       "      <td>Jakarta Barat</td>\n",
       "      <td>1rb+ terjual</td>\n",
       "      <td>4.8</td>\n",
       "    </tr>\n",
       "    <tr>\n",
       "      <th>6</th>\n",
       "      <td>KERUPUK SEBLAK MENTAH ANEKA WARNA</td>\n",
       "      <td>Rp11.500</td>\n",
       "      <td>jajanangarut19</td>\n",
       "      <td>Jakarta Selatan</td>\n",
       "      <td>250+ terjual</td>\n",
       "      <td>4.9</td>\n",
       "    </tr>\n",
       "    <tr>\n",
       "      <th>7</th>\n",
       "      <td>KERUPUK SEBLAK MENTAH 1KG WARNA WARNI</td>\n",
       "      <td>Rp23.500</td>\n",
       "      <td>BociKakang</td>\n",
       "      <td>Jakarta Selatan</td>\n",
       "      <td>250+ terjual</td>\n",
       "      <td>5.0</td>\n",
       "    </tr>\n",
       "    <tr>\n",
       "      <th>8</th>\n",
       "      <td>SEBLAK INSTANT TERMURAH</td>\n",
       "      <td>Rp3.999</td>\n",
       "      <td>Pusat Cuankie &amp; Cemilan Frozen</td>\n",
       "      <td>Jakarta Timur</td>\n",
       "      <td>10rb+ terjual</td>\n",
       "      <td>4.8</td>\n",
       "    </tr>\n",
       "    <tr>\n",
       "      <th>9</th>\n",
       "      <td>Seblak Rafael, Seblak Coet Instan Halal</td>\n",
       "      <td>Rp25.000</td>\n",
       "      <td>Brother Meat Shop</td>\n",
       "      <td>Depok</td>\n",
       "      <td>250+ terjual</td>\n",
       "      <td>4.9</td>\n",
       "    </tr>\n",
       "    <tr>\n",
       "      <th>10</th>\n",
       "      <td>Seblak Instan Pedas Home Made</td>\n",
       "      <td>Rp3.500</td>\n",
       "      <td>the Dhecip</td>\n",
       "      <td>Tangerang Selatan</td>\n",
       "      <td>2rb+ terjual</td>\n",
       "      <td>4.8</td>\n",
       "    </tr>\n",
       "    <tr>\n",
       "      <th>11</th>\n",
       "      <td>Seblak pedas kerupuk pedas kiloan 1 kg</td>\n",
       "      <td>Rp35.000</td>\n",
       "      <td>RIKI STORE 97</td>\n",
       "      <td>Kab. Bogor</td>\n",
       "      <td>100+ terjual</td>\n",
       "      <td>4.8</td>\n",
       "    </tr>\n",
       "    <tr>\n",
       "      <th>12</th>\n",
       "      <td>seblak ceker 500 gr pedas daun jeruk, gurih,ce...</td>\n",
       "      <td>Rp17.499</td>\n",
       "      <td>aghniya</td>\n",
       "      <td>Tangerang Selatan</td>\n",
       "      <td>50+ terjual</td>\n",
       "      <td>4.9</td>\n",
       "    </tr>\n",
       "    <tr>\n",
       "      <th>13</th>\n",
       "      <td>SEBLAK INSTANT TERMURAH</td>\n",
       "      <td>Rp3.999</td>\n",
       "      <td>Pusat Cuankie &amp; Cemilan Frozen</td>\n",
       "      <td>Jakarta Timur</td>\n",
       "      <td>10rb+ terjual</td>\n",
       "      <td>4.8</td>\n",
       "    </tr>\n",
       "    <tr>\n",
       "      <th>14</th>\n",
       "      <td>Seblak Rafael, Seblak Coet Instan Halal</td>\n",
       "      <td>Rp25.000</td>\n",
       "      <td>Brother Meat Shop</td>\n",
       "      <td>Depok</td>\n",
       "      <td>250+ terjual</td>\n",
       "      <td>4.9</td>\n",
       "    </tr>\n",
       "  </tbody>\n",
       "</table>\n",
       "</div>"
      ],
      "text/plain": [
       "                                          nama_produk harga_produk  \\\n",
       "0                                                 NaN          NaN   \n",
       "1                                                 NaN          NaN   \n",
       "2                                                 NaN          NaN   \n",
       "3   Gelifood Seblak Instan Kerupuk Mawar Bumbu Ken...     Rp13.000   \n",
       "4   Geli Food Seblak Ceker Tanpa Tulang Super Peda...     Rp22.500   \n",
       "5   seblak instan jeletot jajanan hits bandung 1 p...      Rp4.180   \n",
       "6                   KERUPUK SEBLAK MENTAH ANEKA WARNA     Rp11.500   \n",
       "7               KERUPUK SEBLAK MENTAH 1KG WARNA WARNI     Rp23.500   \n",
       "8                             SEBLAK INSTANT TERMURAH      Rp3.999   \n",
       "9             Seblak Rafael, Seblak Coet Instan Halal     Rp25.000   \n",
       "10                      Seblak Instan Pedas Home Made      Rp3.500   \n",
       "11             Seblak pedas kerupuk pedas kiloan 1 kg     Rp35.000   \n",
       "12  seblak ceker 500 gr pedas daun jeruk, gurih,ce...     Rp17.499   \n",
       "13                            SEBLAK INSTANT TERMURAH      Rp3.999   \n",
       "14            Seblak Rafael, Seblak Coet Instan Halal     Rp25.000   \n",
       "\n",
       "                      nama_penjual          kota_toko  total_terjual  rating  \n",
       "0                              NaN                NaN     10 terjual     5.0  \n",
       "1                              NaN                NaN  8 rb+ terjual     4.9  \n",
       "2                              NaN                NaN   250+ terjual     4.9  \n",
       "3                         Lidigeli         Kab. Garut   250+ terjual     4.8  \n",
       "4                         Lidigeli         Kab. Garut    40+ terjual     5.0  \n",
       "5            tokomakanankalimantan      Jakarta Barat   1rb+ terjual     4.8  \n",
       "6                   jajanangarut19    Jakarta Selatan   250+ terjual     4.9  \n",
       "7                       BociKakang    Jakarta Selatan   250+ terjual     5.0  \n",
       "8   Pusat Cuankie & Cemilan Frozen      Jakarta Timur  10rb+ terjual     4.8  \n",
       "9                Brother Meat Shop              Depok   250+ terjual     4.9  \n",
       "10                      the Dhecip  Tangerang Selatan   2rb+ terjual     4.8  \n",
       "11                   RIKI STORE 97         Kab. Bogor   100+ terjual     4.8  \n",
       "12                         aghniya  Tangerang Selatan    50+ terjual     4.9  \n",
       "13  Pusat Cuankie & Cemilan Frozen      Jakarta Timur  10rb+ terjual     4.8  \n",
       "14               Brother Meat Shop              Depok   250+ terjual     4.9  "
      ]
     },
     "execution_count": 195,
     "metadata": {},
     "output_type": "execute_result"
    }
   ],
   "source": [
    "df.head(15)"
   ]
  },
  {
   "cell_type": "markdown",
   "metadata": {},
   "source": [
    "Dari 15 data yang saya tampilkan saya menemukan beberapa hal yang bisa saya kerjakan pada saat pembersihan data nanti. <br>\n",
    "\\# To-do:\n",
    "- Terdapat missing value (NaN) pada data seperti row 0,1,2 -> hapus\n",
    "- Terdapat duplicate value pada data seperti row 8 & 13, 9 & 14 -> handle\n",
    "- Penulisan value pada kolom total_terjual seperti 'rb' dan '+' tidak universal dan kurang precise -> handle\n",
    "- penulisan ' terjual' pada kolom total_terjual bersifat redundant dengan nama kolom -> hapus <br>\n",
    "\n",
    "\\# Insight:\n",
    "- Beberapa nama produk atau penjual ditulis dengan huruf besar -> tidak perlu dihandle karena akan memudahkan untuk dibedakan ketika ingin mencari produk nantinya\n",
    "- lokasi toko/penjual sangat beragam. Karena saya tinggal di Jakarta, mungkin perlu menambahkan kolom untuk membedakan produk yang dikirim dari dalam/luar Jabodetabek."
   ]
  },
  {
   "cell_type": "code",
   "execution_count": 196,
   "metadata": {},
   "outputs": [
    {
     "name": "stdout",
     "output_type": "stream",
     "text": [
      "<class 'pandas.core.frame.DataFrame'>\n",
      "RangeIndex: 376 entries, 0 to 375\n",
      "Data columns (total 6 columns):\n",
      " #   Column         Non-Null Count  Dtype  \n",
      "---  ------         --------------  -----  \n",
      " 0   nama_produk    350 non-null    object \n",
      " 1   harga_produk   350 non-null    object \n",
      " 2   nama_penjual   350 non-null    object \n",
      " 3   kota_toko      350 non-null    object \n",
      " 4   total_terjual  370 non-null    object \n",
      " 5   rating         356 non-null    float64\n",
      "dtypes: float64(1), object(5)\n",
      "memory usage: 17.8+ KB\n"
     ]
    }
   ],
   "source": [
    "df.info()"
   ]
  },
  {
   "cell_type": "markdown",
   "metadata": {},
   "source": [
    "\\# Insight:\n",
    "- Seperti sudah diperkirakan, terdapat missing value di dalam data.\n",
    "- Jumlah data yang non-null tidak sama, artinya ada baris yang tidak lengkap terisi -> sebaiknya dihapus karena kolom seperti nama produk, nama penjual dan kota tidak terlalu membantu analisis data sedangkan harga produk, total terjual dan rating akan mengacaukan analisis data jika diisi secara random.\n",
    "- Tipe data harga_produk dan total_terjual seharusnya adalah tipe data numerik -> handle"
   ]
  },
  {
   "cell_type": "markdown",
   "metadata": {},
   "source": [
    "### Data Cleaning"
   ]
  },
  {
   "cell_type": "markdown",
   "metadata": {},
   "source": [
    "Sebelum melakukan pembersihan data, saya membuat duplikat dari data original terlebih dahulu."
   ]
  },
  {
   "cell_type": "code",
   "execution_count": 5,
   "metadata": {},
   "outputs": [
    {
     "data": {
      "text/html": [
       "<div>\n",
       "<style scoped>\n",
       "    .dataframe tbody tr th:only-of-type {\n",
       "        vertical-align: middle;\n",
       "    }\n",
       "\n",
       "    .dataframe tbody tr th {\n",
       "        vertical-align: top;\n",
       "    }\n",
       "\n",
       "    .dataframe thead th {\n",
       "        text-align: right;\n",
       "    }\n",
       "</style>\n",
       "<table border=\"1\" class=\"dataframe\">\n",
       "  <thead>\n",
       "    <tr style=\"text-align: right;\">\n",
       "      <th></th>\n",
       "      <th>nama_produk</th>\n",
       "      <th>harga_produk</th>\n",
       "      <th>nama_penjual</th>\n",
       "      <th>kota_toko</th>\n",
       "      <th>total_terjual</th>\n",
       "      <th>rating</th>\n",
       "    </tr>\n",
       "  </thead>\n",
       "  <tbody>\n",
       "    <tr>\n",
       "      <th>0</th>\n",
       "      <td>NaN</td>\n",
       "      <td>NaN</td>\n",
       "      <td>NaN</td>\n",
       "      <td>NaN</td>\n",
       "      <td>10 terjual</td>\n",
       "      <td>5.0</td>\n",
       "    </tr>\n",
       "    <tr>\n",
       "      <th>1</th>\n",
       "      <td>NaN</td>\n",
       "      <td>NaN</td>\n",
       "      <td>NaN</td>\n",
       "      <td>NaN</td>\n",
       "      <td>8 rb+ terjual</td>\n",
       "      <td>4.9</td>\n",
       "    </tr>\n",
       "    <tr>\n",
       "      <th>2</th>\n",
       "      <td>NaN</td>\n",
       "      <td>NaN</td>\n",
       "      <td>NaN</td>\n",
       "      <td>NaN</td>\n",
       "      <td>250+ terjual</td>\n",
       "      <td>4.9</td>\n",
       "    </tr>\n",
       "    <tr>\n",
       "      <th>3</th>\n",
       "      <td>Gelifood Seblak Instan Kerupuk Mawar Bumbu Ken...</td>\n",
       "      <td>Rp13.000</td>\n",
       "      <td>Lidigeli</td>\n",
       "      <td>Kab. Garut</td>\n",
       "      <td>250+ terjual</td>\n",
       "      <td>4.8</td>\n",
       "    </tr>\n",
       "    <tr>\n",
       "      <th>4</th>\n",
       "      <td>Geli Food Seblak Ceker Tanpa Tulang Super Peda...</td>\n",
       "      <td>Rp22.500</td>\n",
       "      <td>Lidigeli</td>\n",
       "      <td>Kab. Garut</td>\n",
       "      <td>40+ terjual</td>\n",
       "      <td>5.0</td>\n",
       "    </tr>\n",
       "  </tbody>\n",
       "</table>\n",
       "</div>"
      ],
      "text/plain": [
       "                                         nama_produk harga_produk  \\\n",
       "0                                                NaN          NaN   \n",
       "1                                                NaN          NaN   \n",
       "2                                                NaN          NaN   \n",
       "3  Gelifood Seblak Instan Kerupuk Mawar Bumbu Ken...     Rp13.000   \n",
       "4  Geli Food Seblak Ceker Tanpa Tulang Super Peda...     Rp22.500   \n",
       "\n",
       "  nama_penjual   kota_toko  total_terjual  rating  \n",
       "0          NaN         NaN     10 terjual     5.0  \n",
       "1          NaN         NaN  8 rb+ terjual     4.9  \n",
       "2          NaN         NaN   250+ terjual     4.9  \n",
       "3     Lidigeli  Kab. Garut   250+ terjual     4.8  \n",
       "4     Lidigeli  Kab. Garut    40+ terjual     5.0  "
      ]
     },
     "execution_count": 5,
     "metadata": {},
     "output_type": "execute_result"
    }
   ],
   "source": [
    "# make a copy\n",
    "df_clean = df.copy()\n",
    "df_clean.head()"
   ]
  },
  {
   "cell_type": "markdown",
   "metadata": {},
   "source": [
    "Data telah berhasil di-copy. Saatnya melakukan pembersihan data."
   ]
  },
  {
   "cell_type": "markdown",
   "metadata": {},
   "source": [
    "### Handle missing value (NaN)\n",
    "Hal pertama yang saya lakukan untuk membersihkan data adalah missing value handling atau menangani nilai yang hilang/kosong. Pada proses kali ini saya tidak akan mengambil row yang punya missing value."
   ]
  },
  {
   "cell_type": "code",
   "execution_count": 6,
   "metadata": {},
   "outputs": [
    {
     "name": "stdout",
     "output_type": "stream",
     "text": [
      "Column null count: \n",
      "nama_produk      0\n",
      "harga_produk     0\n",
      "nama_penjual     0\n",
      "kota_toko        0\n",
      "total_terjual    0\n",
      "rating           0\n",
      "dtype: int64\n"
     ]
    }
   ],
   "source": [
    "# update df_clean: only take rows without missing value in any of their column\n",
    "df_clean = df_clean.dropna().reset_index(drop=True)        \n",
    "print(f'Column null count: \\n{df_clean.isnull().sum()}')"
   ]
  },
  {
   "cell_type": "markdown",
   "metadata": {},
   "source": [
    "Seperti bisa dilihat, sudah tidak terdapat missing value di dalam data."
   ]
  },
  {
   "cell_type": "markdown",
   "metadata": {},
   "source": [
    "### Handle duplicate rows"
   ]
  },
  {
   "cell_type": "markdown",
   "metadata": {},
   "source": [
    "Langkah kedua adalah menangani baris ganda atau identik karena ini menandakan ada produk yang datanya terekam lebih dari satu kali dan berpotensi mengacaukan analisa data nantinya. Sama seperti missing value, pada proses kali ini saya akan menangani baris yang identik dengan menghapusnya dari tabel sehingga setiap baris bersifat unik. "
   ]
  },
  {
   "cell_type": "code",
   "execution_count": 199,
   "metadata": {},
   "outputs": [
    {
     "name": "stdout",
     "output_type": "stream",
     "text": [
      "duplicate row(s): 0\n"
     ]
    }
   ],
   "source": [
    "# update df_clean: drop any duplicate rows\n",
    "df_clean = df_clean.drop_duplicates().reset_index(drop=True)\n",
    "print(f'duplicate row(s): {df_clean.duplicated().sum()}')"
   ]
  },
  {
   "cell_type": "markdown",
   "metadata": {},
   "source": [
    "Seperti bisa dilihat, sudah tidak terdapat duplicate rows di dalam data. "
   ]
  },
  {
   "cell_type": "markdown",
   "metadata": {},
   "source": [
    "### Handle Data Type"
   ]
  },
  {
   "cell_type": "code",
   "execution_count": 200,
   "metadata": {},
   "outputs": [
    {
     "name": "stdout",
     "output_type": "stream",
     "text": [
      "<class 'pandas.core.frame.DataFrame'>\n",
      "RangeIndex: 96 entries, 0 to 95\n",
      "Data columns (total 6 columns):\n",
      " #   Column         Non-Null Count  Dtype  \n",
      "---  ------         --------------  -----  \n",
      " 0   nama_produk    96 non-null     object \n",
      " 1   harga_produk   96 non-null     object \n",
      " 2   nama_penjual   96 non-null     object \n",
      " 3   kota_toko      96 non-null     object \n",
      " 4   total_terjual  96 non-null     object \n",
      " 5   rating         96 non-null     float64\n",
      "dtypes: float64(1), object(5)\n",
      "memory usage: 4.6+ KB\n"
     ]
    }
   ],
   "source": [
    "df_clean.info()"
   ]
  },
  {
   "cell_type": "markdown",
   "metadata": {},
   "source": [
    "Langkah berikutnya untuk merapikan data adalah menyesuaikan tipe data masing-masing kolom dengan kegunaannya. Dalam hal ini ada 2 kolom yang bermasalah yaitu 'harga_produk' dan 'total_terjual'. Tipe data kedua kolom tersebut masih object dan perlu diubah ke tipe data numerik."
   ]
  },
  {
   "cell_type": "markdown",
   "metadata": {},
   "source": [
    "### Clean 'harga_produk'"
   ]
  },
  {
   "cell_type": "code",
   "execution_count": 201,
   "metadata": {},
   "outputs": [
    {
     "data": {
      "text/plain": [
       "0    Rp13.000\n",
       "1    Rp22.500\n",
       "2     Rp4.180\n",
       "3    Rp11.500\n",
       "4    Rp23.500\n",
       "Name: harga_produk, dtype: object"
      ]
     },
     "execution_count": 201,
     "metadata": {},
     "output_type": "execute_result"
    }
   ],
   "source": [
    "df_clean['harga_produk'].head()"
   ]
  },
  {
   "cell_type": "markdown",
   "metadata": {},
   "source": [
    "Di kolom 'harga_produk' masih terdapat nilai string seperti 'Rp' dan '.' yang tidak bisa diubah ke tipe data numerik, karena itu saya akan menghilangkannya terlebih dahulu sebelum mengubah tipe data kolom tersebut."
   ]
  },
  {
   "cell_type": "code",
   "execution_count": 203,
   "metadata": {},
   "outputs": [
    {
     "data": {
      "text/plain": [
       "0    13000\n",
       "1    22500\n",
       "2     4180\n",
       "3    11500\n",
       "4    23500\n",
       "Name: harga_produk, dtype: object"
      ]
     },
     "execution_count": 203,
     "metadata": {},
     "output_type": "execute_result"
    }
   ],
   "source": [
    "df_clean['harga_produk'] = df_clean['harga_produk'].str.replace('Rp', '')\n",
    "df_clean['harga_produk'] = df_clean['harga_produk'].str.replace('.', '')\n",
    "df_clean['harga_produk'].head()"
   ]
  },
  {
   "cell_type": "markdown",
   "metadata": {},
   "source": [
    "Seperti bisa dilihat, nilai pada kolom 'harga_produk' sudah bersih dari 'Rp' dan '.'."
   ]
  },
  {
   "cell_type": "markdown",
   "metadata": {},
   "source": [
    "### Clean 'total_terjual'"
   ]
  },
  {
   "cell_type": "code",
   "execution_count": 204,
   "metadata": {},
   "outputs": [
    {
     "data": {
      "text/plain": [
       "0    250+ terjual\n",
       "1     40+ terjual\n",
       "2    1rb+ terjual\n",
       "3    250+ terjual\n",
       "4    250+ terjual\n",
       "Name: total_terjual, dtype: object"
      ]
     },
     "execution_count": 204,
     "metadata": {},
     "output_type": "execute_result"
    }
   ],
   "source": [
    "df_clean['total_terjual'].head()"
   ]
  },
  {
   "cell_type": "markdown",
   "metadata": {},
   "source": [
    "Di kolom 'total_terjual' masih terdapat nilai string seperti '+', 'rb' dan ' terjual' yang tidak bisa diubah ke tipe data numerik, karena itu sebelum mengubah tipe data kolom tersebut saya akan menanganinya dengan cara menghapus '+' dan ' terjual' serta mengganti 'rb' menjadi '000'."
   ]
  },
  {
   "cell_type": "code",
   "execution_count": 205,
   "metadata": {},
   "outputs": [
    {
     "data": {
      "text/plain": [
       "0     250\n",
       "1      40\n",
       "2    1000\n",
       "3     250\n",
       "4     250\n",
       "Name: total_terjual, dtype: object"
      ]
     },
     "execution_count": 205,
     "metadata": {},
     "output_type": "execute_result"
    }
   ],
   "source": [
    "df_clean['total_terjual'] = df_clean['total_terjual'].str.replace('+', '')      # erase '+'\n",
    "df_clean['total_terjual'] = df_clean['total_terjual'].str.replace('rb', '000')      # change 'rb' to '000'\n",
    "df_clean['total_terjual'] = df_clean['total_terjual'].str.replace(' terjual', '')       # erase 'terjual' and the whitespace in front of it \n",
    "df_clean['total_terjual'].head()"
   ]
  },
  {
   "cell_type": "markdown",
   "metadata": {},
   "source": [
    "Seperti bisa dilihat, nilai pada kolom 'total_terjual' sudah bersih dari '+' dan 'terjual' dan 'rb' sudah disesuaikan menjadi '000'."
   ]
  },
  {
   "cell_type": "markdown",
   "metadata": {},
   "source": [
    "### Convert Data Type"
   ]
  },
  {
   "cell_type": "markdown",
   "metadata": {},
   "source": [
    "Sekarang kolom 'harga_produk_ dan 'total_terjual' sudah siap untuk diubah tipe datanya ke tipe data numerik."
   ]
  },
  {
   "cell_type": "code",
   "execution_count": 206,
   "metadata": {},
   "outputs": [
    {
     "name": "stdout",
     "output_type": "stream",
     "text": [
      "<class 'pandas.core.frame.DataFrame'>\n",
      "RangeIndex: 96 entries, 0 to 95\n",
      "Data columns (total 6 columns):\n",
      " #   Column         Non-Null Count  Dtype  \n",
      "---  ------         --------------  -----  \n",
      " 0   nama_produk    96 non-null     object \n",
      " 1   harga_produk   96 non-null     int64  \n",
      " 2   nama_penjual   96 non-null     object \n",
      " 3   kota_toko      96 non-null     object \n",
      " 4   total_terjual  96 non-null     int64  \n",
      " 5   rating         96 non-null     float64\n",
      "dtypes: float64(1), int64(2), object(3)\n",
      "memory usage: 4.6+ KB\n"
     ]
    }
   ],
   "source": [
    "df_clean[['harga_produk', 'total_terjual']] = df_clean[['harga_produk', 'total_terjual']].apply(pd.to_numeric)\n",
    "df_clean.info()"
   ]
  },
  {
   "cell_type": "markdown",
   "metadata": {},
   "source": [
    "Seperti bisa dilihat, tipe data kolom 'harga_produk' dan 'total_terjual' sudah menjadi tipe data numerik (int64) "
   ]
  },
  {
   "cell_type": "markdown",
   "metadata": {},
   "source": [
    "### Data Transformation"
   ]
  },
  {
   "cell_type": "code",
   "execution_count": 207,
   "metadata": {},
   "outputs": [
    {
     "data": {
      "text/html": [
       "<div>\n",
       "<style scoped>\n",
       "    .dataframe tbody tr th:only-of-type {\n",
       "        vertical-align: middle;\n",
       "    }\n",
       "\n",
       "    .dataframe tbody tr th {\n",
       "        vertical-align: top;\n",
       "    }\n",
       "\n",
       "    .dataframe thead th {\n",
       "        text-align: right;\n",
       "    }\n",
       "</style>\n",
       "<table border=\"1\" class=\"dataframe\">\n",
       "  <thead>\n",
       "    <tr style=\"text-align: right;\">\n",
       "      <th></th>\n",
       "      <th>nama_produk</th>\n",
       "      <th>harga_produk</th>\n",
       "      <th>nama_penjual</th>\n",
       "      <th>kota_toko</th>\n",
       "      <th>total_terjual</th>\n",
       "      <th>rating</th>\n",
       "    </tr>\n",
       "  </thead>\n",
       "  <tbody>\n",
       "    <tr>\n",
       "      <th>0</th>\n",
       "      <td>Gelifood Seblak Instan Kerupuk Mawar Bumbu Ken...</td>\n",
       "      <td>13000</td>\n",
       "      <td>Lidigeli</td>\n",
       "      <td>Kab. Garut</td>\n",
       "      <td>250</td>\n",
       "      <td>4.8</td>\n",
       "    </tr>\n",
       "    <tr>\n",
       "      <th>1</th>\n",
       "      <td>Geli Food Seblak Ceker Tanpa Tulang Super Peda...</td>\n",
       "      <td>22500</td>\n",
       "      <td>Lidigeli</td>\n",
       "      <td>Kab. Garut</td>\n",
       "      <td>40</td>\n",
       "      <td>5.0</td>\n",
       "    </tr>\n",
       "    <tr>\n",
       "      <th>2</th>\n",
       "      <td>seblak instan jeletot jajanan hits bandung 1 p...</td>\n",
       "      <td>4180</td>\n",
       "      <td>tokomakanankalimantan</td>\n",
       "      <td>Jakarta Barat</td>\n",
       "      <td>1000</td>\n",
       "      <td>4.8</td>\n",
       "    </tr>\n",
       "    <tr>\n",
       "      <th>3</th>\n",
       "      <td>KERUPUK SEBLAK MENTAH ANEKA WARNA</td>\n",
       "      <td>11500</td>\n",
       "      <td>jajanangarut19</td>\n",
       "      <td>Jakarta Selatan</td>\n",
       "      <td>250</td>\n",
       "      <td>4.9</td>\n",
       "    </tr>\n",
       "    <tr>\n",
       "      <th>4</th>\n",
       "      <td>KERUPUK SEBLAK MENTAH 1KG WARNA WARNI</td>\n",
       "      <td>23500</td>\n",
       "      <td>BociKakang</td>\n",
       "      <td>Jakarta Selatan</td>\n",
       "      <td>250</td>\n",
       "      <td>5.0</td>\n",
       "    </tr>\n",
       "  </tbody>\n",
       "</table>\n",
       "</div>"
      ],
      "text/plain": [
       "                                         nama_produk  harga_produk  \\\n",
       "0  Gelifood Seblak Instan Kerupuk Mawar Bumbu Ken...         13000   \n",
       "1  Geli Food Seblak Ceker Tanpa Tulang Super Peda...         22500   \n",
       "2  seblak instan jeletot jajanan hits bandung 1 p...          4180   \n",
       "3                  KERUPUK SEBLAK MENTAH ANEKA WARNA         11500   \n",
       "4              KERUPUK SEBLAK MENTAH 1KG WARNA WARNI         23500   \n",
       "\n",
       "            nama_penjual        kota_toko  total_terjual  rating  \n",
       "0               Lidigeli       Kab. Garut            250     4.8  \n",
       "1               Lidigeli       Kab. Garut             40     5.0  \n",
       "2  tokomakanankalimantan    Jakarta Barat           1000     4.8  \n",
       "3         jajanangarut19  Jakarta Selatan            250     4.9  \n",
       "4             BociKakang  Jakarta Selatan            250     5.0  "
      ]
     },
     "execution_count": 207,
     "metadata": {},
     "output_type": "execute_result"
    }
   ],
   "source": [
    "df_clean.head()"
   ]
  },
  {
   "cell_type": "markdown",
   "metadata": {},
   "source": [
    "Data sudah bersih dan sebenarnya siap untuk dianalisa, tapi sebelumnya seperti rencana saya di tahap penjelajahan data, saya ingin menambahkan kolom baru untuk membedakan produk yang dikirim dari dalam/luar Jabodetabek."
   ]
  },
  {
   "cell_type": "markdown",
   "metadata": {},
   "source": [
    "Seperti biasa, saya akan membuat copy dari dataframe sebelum melakukan perubahan (transformasi)"
   ]
  },
  {
   "cell_type": "code",
   "execution_count": 208,
   "metadata": {},
   "outputs": [],
   "source": [
    "# make a copy\n",
    "df_trans = df_clean.copy()"
   ]
  },
  {
   "cell_type": "code",
   "execution_count": 209,
   "metadata": {},
   "outputs": [
    {
     "data": {
      "text/plain": [
       "array(['Kab. Garut', 'Jakarta Barat', 'Jakarta Selatan', 'Jakarta Timur',\n",
       "       'Depok', 'Tangerang Selatan', 'Kab. Bogor', 'Bekasi', 'Surakarta',\n",
       "       'Bandung', 'Tasikmalaya', 'Kab. Bandung', 'Jakarta Pusat',\n",
       "       'Cimahi', 'Palembang', 'Kab. Tangerang', 'Surabaya', 'Banjarbaru',\n",
       "       'Kab.Ciamis', 'Tangerang', 'Kab. Bekasi', 'Semarang',\n",
       "       'Kab. Sleman', 'Bogor', 'Malang'], dtype=object)"
      ]
     },
     "execution_count": 209,
     "metadata": {},
     "output_type": "execute_result"
    }
   ],
   "source": [
    "df_trans['kota_toko'].unique()"
   ]
  },
  {
   "cell_type": "markdown",
   "metadata": {},
   "source": [
    "Dari nama-nama kota yang ada pada data, saya akan mengelompokkan wilayah berikut sebagai Jabodetabek: <br>\n",
    "['Jakarta Barat', 'Jakarta Selatan', 'Jakarta Timur', 'Depok', 'Tangerang Selatan', 'Kab. Bogor', 'Bekasi', 'Jakarta Pusat', 'Kab. Tangerang', 'Tangerang', 'Kab. Bekasi', 'Bogor']"
   ]
  },
  {
   "cell_type": "code",
   "execution_count": 210,
   "metadata": {},
   "outputs": [
    {
     "name": "stdout",
     "output_type": "stream",
     "text": [
      "list untuk kolom baru berhasil dibuat\n",
      "panjang kolom : 96\n"
     ]
    }
   ],
   "source": [
    "# areas considered jabodetabek\n",
    "jabodetabek = ['Jakarta Barat', 'Jakarta Selatan', 'Jakarta Timur', 'Depok', 'Tangerang Selatan', 'Kab. Bogor', 'Bekasi', 'Jakarta Pusat', 'Kab. Tangerang', 'Tangerang', 'Kab. Bekasi', 'Bogor']\n",
    "\n",
    "# empty list for new column\n",
    "list_jabodetabek = []\n",
    "\n",
    "for kota in df_trans['kota_toko']:\n",
    "    if kota in jabodetabek:\n",
    "        list_jabodetabek.append(True)\n",
    "    else:\n",
    "        list_jabodetabek.append(False)\n",
    "\n",
    "if len(df_trans['kota_toko']) == len(list_jabodetabek):\n",
    "    print(f'list untuk kolom baru berhasil dibuat\\npanjang kolom : {len(list_jabodetabek)}')"
   ]
  },
  {
   "cell_type": "markdown",
   "metadata": {},
   "source": [
    "Sekarang kolom baru sudah siap untuk dibuat dan ditambahkan ke dataframe."
   ]
  },
  {
   "cell_type": "code",
   "execution_count": 211,
   "metadata": {},
   "outputs": [
    {
     "data": {
      "text/html": [
       "<div>\n",
       "<style scoped>\n",
       "    .dataframe tbody tr th:only-of-type {\n",
       "        vertical-align: middle;\n",
       "    }\n",
       "\n",
       "    .dataframe tbody tr th {\n",
       "        vertical-align: top;\n",
       "    }\n",
       "\n",
       "    .dataframe thead th {\n",
       "        text-align: right;\n",
       "    }\n",
       "</style>\n",
       "<table border=\"1\" class=\"dataframe\">\n",
       "  <thead>\n",
       "    <tr style=\"text-align: right;\">\n",
       "      <th></th>\n",
       "      <th>nama_produk</th>\n",
       "      <th>harga_produk</th>\n",
       "      <th>nama_penjual</th>\n",
       "      <th>kota_toko</th>\n",
       "      <th>total_terjual</th>\n",
       "      <th>rating</th>\n",
       "      <th>jabodetabek</th>\n",
       "    </tr>\n",
       "  </thead>\n",
       "  <tbody>\n",
       "    <tr>\n",
       "      <th>0</th>\n",
       "      <td>Gelifood Seblak Instan Kerupuk Mawar Bumbu Ken...</td>\n",
       "      <td>13000</td>\n",
       "      <td>Lidigeli</td>\n",
       "      <td>Kab. Garut</td>\n",
       "      <td>250</td>\n",
       "      <td>4.8</td>\n",
       "      <td>False</td>\n",
       "    </tr>\n",
       "    <tr>\n",
       "      <th>1</th>\n",
       "      <td>Geli Food Seblak Ceker Tanpa Tulang Super Peda...</td>\n",
       "      <td>22500</td>\n",
       "      <td>Lidigeli</td>\n",
       "      <td>Kab. Garut</td>\n",
       "      <td>40</td>\n",
       "      <td>5.0</td>\n",
       "      <td>False</td>\n",
       "    </tr>\n",
       "    <tr>\n",
       "      <th>2</th>\n",
       "      <td>seblak instan jeletot jajanan hits bandung 1 p...</td>\n",
       "      <td>4180</td>\n",
       "      <td>tokomakanankalimantan</td>\n",
       "      <td>Jakarta Barat</td>\n",
       "      <td>1000</td>\n",
       "      <td>4.8</td>\n",
       "      <td>True</td>\n",
       "    </tr>\n",
       "    <tr>\n",
       "      <th>3</th>\n",
       "      <td>KERUPUK SEBLAK MENTAH ANEKA WARNA</td>\n",
       "      <td>11500</td>\n",
       "      <td>jajanangarut19</td>\n",
       "      <td>Jakarta Selatan</td>\n",
       "      <td>250</td>\n",
       "      <td>4.9</td>\n",
       "      <td>True</td>\n",
       "    </tr>\n",
       "    <tr>\n",
       "      <th>4</th>\n",
       "      <td>KERUPUK SEBLAK MENTAH 1KG WARNA WARNI</td>\n",
       "      <td>23500</td>\n",
       "      <td>BociKakang</td>\n",
       "      <td>Jakarta Selatan</td>\n",
       "      <td>250</td>\n",
       "      <td>5.0</td>\n",
       "      <td>True</td>\n",
       "    </tr>\n",
       "  </tbody>\n",
       "</table>\n",
       "</div>"
      ],
      "text/plain": [
       "                                         nama_produk  harga_produk  \\\n",
       "0  Gelifood Seblak Instan Kerupuk Mawar Bumbu Ken...         13000   \n",
       "1  Geli Food Seblak Ceker Tanpa Tulang Super Peda...         22500   \n",
       "2  seblak instan jeletot jajanan hits bandung 1 p...          4180   \n",
       "3                  KERUPUK SEBLAK MENTAH ANEKA WARNA         11500   \n",
       "4              KERUPUK SEBLAK MENTAH 1KG WARNA WARNI         23500   \n",
       "\n",
       "            nama_penjual        kota_toko  total_terjual  rating  jabodetabek  \n",
       "0               Lidigeli       Kab. Garut            250     4.8        False  \n",
       "1               Lidigeli       Kab. Garut             40     5.0        False  \n",
       "2  tokomakanankalimantan    Jakarta Barat           1000     4.8         True  \n",
       "3         jajanangarut19  Jakarta Selatan            250     4.9         True  \n",
       "4             BociKakang  Jakarta Selatan            250     5.0         True  "
      ]
     },
     "execution_count": 211,
     "metadata": {},
     "output_type": "execute_result"
    }
   ],
   "source": [
    "df_trans['jabodetabek'] = list_jabodetabek\n",
    "df_trans.head()"
   ]
  },
  {
   "cell_type": "markdown",
   "metadata": {},
   "source": [
    "Seperti bisa dilihat, sekarang terdapat kolom baru yang menyatakan apakah pengiriman berasal dari jabodetabek atau bukan."
   ]
  },
  {
   "cell_type": "markdown",
   "metadata": {},
   "source": [
    "Data yang sudah siap diolah akan sekali lagi saya simpan ke dalam file .csv supaya tidak perlu melalui proses data preparation lagi."
   ]
  },
  {
   "cell_type": "code",
   "execution_count": 212,
   "metadata": {},
   "outputs": [],
   "source": [
    "df_trans.to_csv('seblak_ready.csv', index=False)"
   ]
  },
  {
   "cell_type": "markdown",
   "metadata": {},
   "source": [
    "## 3. Business Understanding (SMART)"
   ]
  },
  {
   "cell_type": "markdown",
   "metadata": {},
   "source": [
    "### SMART\n",
    "Saya akan menerapkan skema SMART untuk menentukan target dan bagaimana saya dapat menggunakan data yang telah saya peroleh untuk mencapai target tersebut. <br>\n",
    "- Specific : Mendapatkan kandidat produk untuk dijual dengan skema dropship <br><br>\n",
    "- Measurable : Mendapatkan maksimal 5 kandidat produk terbaik dengan total pendapatan bersih per bulan minimal sebesar 2 juta rupiah <br><br>\n",
    "- Achievable : Analisa data dan bandingkan harga produk, total terjual dan rating untuk mendapatkan produk-produk dengan prospek pendapatan terbesar. Kemudian hitung pendapatan per bulan dengan komisi 10% harga produk dan penjualan per hari 1% dari total terjual. <br><br>\n",
    "- Relevant : Dengan mengerucutkan pilihan produk yang akan dijual menjadi produk dengan prospek pendapatan tertinggi, akan memperbesar potensi pendapatan dan/atau dapat mencapai target dengan tenaga/waktu minimal. Sisa tenaga/waktu dapat digunakan untuk hal lain seperti istirahat supaya menjaga kesehatan fisik dan mental atau juga bisa digunakan untuk usaha lain jika ingin memperbesar total pendapatan gabungan per bulan. <br><br>\n",
    "- Time-Bound : Total pendapatan bersih per bulan dapat dilihat dalam waktu 1 bulan dari mulai berjualan.\n",
    "<br><br>\n",
    "Konklusi: Dapatkan maksimal 5 produk sebagai kandidat untuk dijual dengan target total pendapatan bersih (5 produk) per bulan sebesar 2 juta rupiah dengan cara menganalisa dan membandingkan data harga produk, total terjual dan rating untuk mendapatkan produk dengan prospek pendapatan terbesar. Perhitungan pendapatan per bulan dilakukan dengan asumsi komisi sebesar 10% harga produk dan penjualan 1% dari total terjual dan hasil akan terlihat dalam kurun waktu 1 bulan."
   ]
  },
  {
   "cell_type": "markdown",
   "metadata": {},
   "source": [
    "## 4. Analysis "
   ]
  },
  {
   "cell_type": "markdown",
   "metadata": {},
   "source": [
    "Dataframe yang akan saya gunakan untuk analisis diambil dari file.csv yang sudah dipersiapkan"
   ]
  },
  {
   "cell_type": "code",
   "execution_count": 214,
   "metadata": {},
   "outputs": [
    {
     "data": {
      "text/html": [
       "<div>\n",
       "<style scoped>\n",
       "    .dataframe tbody tr th:only-of-type {\n",
       "        vertical-align: middle;\n",
       "    }\n",
       "\n",
       "    .dataframe tbody tr th {\n",
       "        vertical-align: top;\n",
       "    }\n",
       "\n",
       "    .dataframe thead th {\n",
       "        text-align: right;\n",
       "    }\n",
       "</style>\n",
       "<table border=\"1\" class=\"dataframe\">\n",
       "  <thead>\n",
       "    <tr style=\"text-align: right;\">\n",
       "      <th></th>\n",
       "      <th>nama_produk</th>\n",
       "      <th>harga_produk</th>\n",
       "      <th>nama_penjual</th>\n",
       "      <th>kota_toko</th>\n",
       "      <th>total_terjual</th>\n",
       "      <th>rating</th>\n",
       "      <th>jabodetabek</th>\n",
       "    </tr>\n",
       "  </thead>\n",
       "  <tbody>\n",
       "    <tr>\n",
       "      <th>0</th>\n",
       "      <td>Gelifood Seblak Instan Kerupuk Mawar Bumbu Ken...</td>\n",
       "      <td>13000</td>\n",
       "      <td>Lidigeli</td>\n",
       "      <td>Kab. Garut</td>\n",
       "      <td>250</td>\n",
       "      <td>4.8</td>\n",
       "      <td>False</td>\n",
       "    </tr>\n",
       "    <tr>\n",
       "      <th>1</th>\n",
       "      <td>Geli Food Seblak Ceker Tanpa Tulang Super Peda...</td>\n",
       "      <td>22500</td>\n",
       "      <td>Lidigeli</td>\n",
       "      <td>Kab. Garut</td>\n",
       "      <td>40</td>\n",
       "      <td>5.0</td>\n",
       "      <td>False</td>\n",
       "    </tr>\n",
       "    <tr>\n",
       "      <th>2</th>\n",
       "      <td>seblak instan jeletot jajanan hits bandung 1 p...</td>\n",
       "      <td>4180</td>\n",
       "      <td>tokomakanankalimantan</td>\n",
       "      <td>Jakarta Barat</td>\n",
       "      <td>1000</td>\n",
       "      <td>4.8</td>\n",
       "      <td>True</td>\n",
       "    </tr>\n",
       "    <tr>\n",
       "      <th>3</th>\n",
       "      <td>KERUPUK SEBLAK MENTAH ANEKA WARNA</td>\n",
       "      <td>11500</td>\n",
       "      <td>jajanangarut19</td>\n",
       "      <td>Jakarta Selatan</td>\n",
       "      <td>250</td>\n",
       "      <td>4.9</td>\n",
       "      <td>True</td>\n",
       "    </tr>\n",
       "    <tr>\n",
       "      <th>4</th>\n",
       "      <td>KERUPUK SEBLAK MENTAH 1KG WARNA WARNI</td>\n",
       "      <td>23500</td>\n",
       "      <td>BociKakang</td>\n",
       "      <td>Jakarta Selatan</td>\n",
       "      <td>250</td>\n",
       "      <td>5.0</td>\n",
       "      <td>True</td>\n",
       "    </tr>\n",
       "  </tbody>\n",
       "</table>\n",
       "</div>"
      ],
      "text/plain": [
       "                                         nama_produk  harga_produk  \\\n",
       "0  Gelifood Seblak Instan Kerupuk Mawar Bumbu Ken...         13000   \n",
       "1  Geli Food Seblak Ceker Tanpa Tulang Super Peda...         22500   \n",
       "2  seblak instan jeletot jajanan hits bandung 1 p...          4180   \n",
       "3                  KERUPUK SEBLAK MENTAH ANEKA WARNA         11500   \n",
       "4              KERUPUK SEBLAK MENTAH 1KG WARNA WARNI         23500   \n",
       "\n",
       "            nama_penjual        kota_toko  total_terjual  rating  jabodetabek  \n",
       "0               Lidigeli       Kab. Garut            250     4.8        False  \n",
       "1               Lidigeli       Kab. Garut             40     5.0        False  \n",
       "2  tokomakanankalimantan    Jakarta Barat           1000     4.8         True  \n",
       "3         jajanangarut19  Jakarta Selatan            250     4.9         True  \n",
       "4             BociKakang  Jakarta Selatan            250     5.0         True  "
      ]
     },
     "execution_count": 214,
     "metadata": {},
     "output_type": "execute_result"
    }
   ],
   "source": [
    "df_ana = pd.read_csv('seblak_ready.csv')\n",
    "df_ana.head()"
   ]
  },
  {
   "cell_type": "markdown",
   "metadata": {},
   "source": [
    "### Basic Analysis Stats"
   ]
  },
  {
   "cell_type": "markdown",
   "metadata": {},
   "source": [
    "Untuk menganalisis data, saya ingin menampilkan informasi seperti:\n",
    "- mean\n",
    "- median\n",
    "- standard deviation\n",
    "- skewness\n",
    "- kurtosis\n",
    "<br>\n",
    "\n",
    "Informasi di atas hanya berlaku untuk data numerik. Karena itu saya akan membuat dataframe baru yang menampilkan 5 informasi tersebut untuk kolom harga, total terjual dan rating produk."
   ]
  },
  {
   "cell_type": "code",
   "execution_count": 215,
   "metadata": {},
   "outputs": [
    {
     "data": {
      "text/html": [
       "<div>\n",
       "<style scoped>\n",
       "    .dataframe tbody tr th:only-of-type {\n",
       "        vertical-align: middle;\n",
       "    }\n",
       "\n",
       "    .dataframe tbody tr th {\n",
       "        vertical-align: top;\n",
       "    }\n",
       "\n",
       "    .dataframe thead th {\n",
       "        text-align: right;\n",
       "    }\n",
       "</style>\n",
       "<table border=\"1\" class=\"dataframe\">\n",
       "  <thead>\n",
       "    <tr style=\"text-align: right;\">\n",
       "      <th></th>\n",
       "      <th>agg</th>\n",
       "      <th>harga</th>\n",
       "      <th>terjual</th>\n",
       "      <th>rating</th>\n",
       "    </tr>\n",
       "  </thead>\n",
       "  <tbody>\n",
       "    <tr>\n",
       "      <th>0</th>\n",
       "      <td>mean</td>\n",
       "      <td>26544.729167</td>\n",
       "      <td>366.177083</td>\n",
       "      <td>4.873958</td>\n",
       "    </tr>\n",
       "    <tr>\n",
       "      <th>1</th>\n",
       "      <td>median</td>\n",
       "      <td>17749.500000</td>\n",
       "      <td>70.000000</td>\n",
       "      <td>4.900000</td>\n",
       "    </tr>\n",
       "    <tr>\n",
       "      <th>2</th>\n",
       "      <td>std</td>\n",
       "      <td>28995.487881</td>\n",
       "      <td>1319.010123</td>\n",
       "      <td>0.177850</td>\n",
       "    </tr>\n",
       "    <tr>\n",
       "      <th>3</th>\n",
       "      <td>skew</td>\n",
       "      <td>3.910309</td>\n",
       "      <td>6.305932</td>\n",
       "      <td>-2.542678</td>\n",
       "    </tr>\n",
       "    <tr>\n",
       "      <th>4</th>\n",
       "      <td>kurt</td>\n",
       "      <td>20.955165</td>\n",
       "      <td>41.448967</td>\n",
       "      <td>7.888514</td>\n",
       "    </tr>\n",
       "  </tbody>\n",
       "</table>\n",
       "</div>"
      ],
      "text/plain": [
       "      agg         harga      terjual    rating\n",
       "0    mean  26544.729167   366.177083  4.873958\n",
       "1  median  17749.500000    70.000000  4.900000\n",
       "2     std  28995.487881  1319.010123  0.177850\n",
       "3    skew      3.910309     6.305932 -2.542678\n",
       "4    kurt     20.955165    41.448967  7.888514"
      ]
     },
     "execution_count": 215,
     "metadata": {},
     "output_type": "execute_result"
    }
   ],
   "source": [
    "# create new dataframe\n",
    "df_stats = pd.DataFrame({\n",
    "    'agg' : ['mean', 'median', 'std', 'skew', 'kurt'], # aggregate function names\n",
    "    'harga' : [df_ana['harga_produk'].mean(), df_ana['harga_produk'].median(), df_ana['harga_produk'].std(), df_ana['harga_produk'].skew(), df_ana['harga_produk'].kurt()],\n",
    "    'terjual' : [df_ana['total_terjual'].mean(), df_ana['total_terjual'].median(), df_ana['total_terjual'].std(), df_ana['total_terjual'].skew(), df_ana['total_terjual'].kurt()],\n",
    "    'rating' : [df_ana['rating'].mean(), df_ana['rating'].median(), df_ana['rating'].std(), df_ana['rating'].skew(), df_ana['rating'].kurt()]\n",
    "})\n",
    "\n",
    "df_stats"
   ]
  },
  {
   "cell_type": "markdown",
   "metadata": {},
   "source": [
    "##### \\# Insight: <br>\n",
    "\n",
    "1. harga:\n",
    "- nilai mean lebih tinggi dari median -> skewness positif (sesuai)\n",
    "- nilai skewness lebih besar dari 1 -> distribusi data condong ke kiri\n",
    "- nilai kurtosis positif -> leptokurtic -> menandakan adanya outlier atau ekstrim values pada data\n",
    "- std yang tinggi dikarenakan outlier yang ekstrim: mungkin ada yang menjual seblak secara grosir (misalnya per kilo) di saat penjual lain menawarkan produknya per porsi.\n",
    "<br>\n",
    "\n",
    "2. terjual:\n",
    "- nilai mean lebih tinggi dari median -> skewness positif (sesuai)\n",
    "- nilai skewness lebih besar dari 1 -> distribusi data condong ke kiri\n",
    "- nilai kurtosis positif -> leptokurtic -> menandakan adanya outlier atau ekstrim values pada data\n",
    "- std yang tinggi dikarenakan outlier yang ekstrim: misalnya produk seblak dengan porsi kecil sehingga mendorong pembeli untuk memborong beberapa unit dalam sekali belanja.\n",
    "<br>\n",
    "\n",
    "3. rating:\n",
    "- nilai mean lebih rendah dari median -> skewness negatif (sesuai)\n",
    "- nilai skewness lebih rendah dari -1 -> distribusi data condong ke kanan\n",
    "- nilai kurtosis positif -> leptokurtic -> menandakan adanya outlier atau ekstrim values pada data\n",
    "<br><br>\n",
    "\n",
    "\\# Insight conclusion: <br>\n",
    "Karena distribusi data bersifat skewed dan adanya outlier, maka median lebih dapat diandalkan untuk merepresentasikan center dari data -> Dapat diasumsikan bahwa: <br>\n",
    "- Rata-rata produk seblak dijual pada kisaran harga 17749.50 rupiah <br>\n",
    "- Rata-rata penjual berhasil menjual sekitar 70 unit dari produk seblaknya <br>\n",
    "- Rata-rata produk mendapatkan rating 4.9 dari customer"
   ]
  },
  {
   "cell_type": "markdown",
   "metadata": {},
   "source": [
    "### 1st Consideration: Potential Income"
   ]
  },
  {
   "cell_type": "markdown",
   "metadata": {},
   "source": [
    "Dengan asumsi bahwa informasi produk terjual merupakan penjualan produk per bulan, saya ingin mengetahui berapa potensi minimum dan maksimum pendapatan jika saya menjual produk seblak. <br>\n",
    "Saya akan menggunakan confidence interval untuk mendapatkan informasi tersebut dan untuk mempermudah penghitungan, saya menganggap data terdistribusi normal."
   ]
  },
  {
   "cell_type": "code",
   "execution_count": 216,
   "metadata": {},
   "outputs": [],
   "source": [
    "# for this next part we need to import a few more libraries\n",
    "import numpy as np\n",
    "import scipy.stats as st"
   ]
  },
  {
   "cell_type": "markdown",
   "metadata": {},
   "source": [
    "Saya akan menambahkan kolom baru pada dataframe saya, yaitu kolom 'pendapatan' yang berisi nilai harga*terjual"
   ]
  },
  {
   "cell_type": "code",
   "execution_count": 217,
   "metadata": {},
   "outputs": [
    {
     "data": {
      "text/html": [
       "<div>\n",
       "<style scoped>\n",
       "    .dataframe tbody tr th:only-of-type {\n",
       "        vertical-align: middle;\n",
       "    }\n",
       "\n",
       "    .dataframe tbody tr th {\n",
       "        vertical-align: top;\n",
       "    }\n",
       "\n",
       "    .dataframe thead th {\n",
       "        text-align: right;\n",
       "    }\n",
       "</style>\n",
       "<table border=\"1\" class=\"dataframe\">\n",
       "  <thead>\n",
       "    <tr style=\"text-align: right;\">\n",
       "      <th></th>\n",
       "      <th>harga_produk</th>\n",
       "      <th>total_terjual</th>\n",
       "      <th>pendapatan</th>\n",
       "    </tr>\n",
       "  </thead>\n",
       "  <tbody>\n",
       "    <tr>\n",
       "      <th>0</th>\n",
       "      <td>13000</td>\n",
       "      <td>250</td>\n",
       "      <td>3250000</td>\n",
       "    </tr>\n",
       "    <tr>\n",
       "      <th>1</th>\n",
       "      <td>22500</td>\n",
       "      <td>40</td>\n",
       "      <td>900000</td>\n",
       "    </tr>\n",
       "    <tr>\n",
       "      <th>2</th>\n",
       "      <td>4180</td>\n",
       "      <td>1000</td>\n",
       "      <td>4180000</td>\n",
       "    </tr>\n",
       "    <tr>\n",
       "      <th>3</th>\n",
       "      <td>11500</td>\n",
       "      <td>250</td>\n",
       "      <td>2875000</td>\n",
       "    </tr>\n",
       "    <tr>\n",
       "      <th>4</th>\n",
       "      <td>23500</td>\n",
       "      <td>250</td>\n",
       "      <td>5875000</td>\n",
       "    </tr>\n",
       "  </tbody>\n",
       "</table>\n",
       "</div>"
      ],
      "text/plain": [
       "   harga_produk  total_terjual  pendapatan\n",
       "0         13000            250     3250000\n",
       "1         22500             40      900000\n",
       "2          4180           1000     4180000\n",
       "3         11500            250     2875000\n",
       "4         23500            250     5875000"
      ]
     },
     "execution_count": 217,
     "metadata": {},
     "output_type": "execute_result"
    }
   ],
   "source": [
    "list_pendapatan = []\n",
    "for i in range(len(df_ana)):\n",
    "    pendapatan = df_ana['harga_produk'][i]*df_ana['total_terjual'][i]\n",
    "    list_pendapatan.append(pendapatan)\n",
    "\n",
    "df_ana['pendapatan'] = list_pendapatan\n",
    "df_ana[['harga_produk', 'total_terjual', 'pendapatan']].head()"
   ]
  },
  {
   "cell_type": "markdown",
   "metadata": {},
   "source": [
    "Sekarang saya akan menggunakan data dari kolom pendapatan untuk menghitung potensi pendapatan minimum dan maksimum dari penjualan seblak."
   ]
  },
  {
   "cell_type": "code",
   "execution_count": 218,
   "metadata": {},
   "outputs": [
    {
     "name": "stdout",
     "output_type": "stream",
     "text": [
      "Lower Limit: 1275087.9\n",
      "Upper Limit: 9617139.52\n"
     ]
    }
   ],
   "source": [
    "std = df_ana['pendapatan'].std()\n",
    "N = len(df_ana)\n",
    "\n",
    "# confidence interval formula:\n",
    "# st.norm.interval(conf_level,loc=average,scale=\"The_width_of th_ distribution_from_the_average\")\n",
    "# The width of the distribution from the average = std/sqrt(N)\n",
    "low, up = st.norm.interval(0.95,loc=df_ana['pendapatan'].mean(),scale=std/np.sqrt(N))\n",
    "print('Lower Limit:', round(low, 2))\n",
    "print('Upper Limit:', round(up, 2))"
   ]
  },
  {
   "cell_type": "markdown",
   "metadata": {},
   "source": [
    "Dapat dilihat bahwa:\n",
    "Potensi pendapatan minimal penjualan seblak adalah 1275087.90 (1.2 juta) rupiah <br>\n",
    "Potensi pendapatan maksimal penjualan seblak adalah 9617139.52 (9.6 juta) rupiah <br>\n",
    "notes: pendapatan yang dimaksud di sini adalah pendapatan kotor (belum ada perhitungan modal/komisi)"
   ]
  },
  {
   "cell_type": "markdown",
   "metadata": {},
   "source": [
    "##### Testing for Target"
   ]
  },
  {
   "cell_type": "markdown",
   "metadata": {},
   "source": [
    "Dengan perhitungan komisi 10% dan penjualan 2% per hari (30% per bulan), saya akan membuat dataframe baru dan menghitung potensi pendapatan bersih saya."
   ]
  },
  {
   "cell_type": "code",
   "execution_count": 220,
   "metadata": {},
   "outputs": [
    {
     "data": {
      "text/html": [
       "<div>\n",
       "<style scoped>\n",
       "    .dataframe tbody tr th:only-of-type {\n",
       "        vertical-align: middle;\n",
       "    }\n",
       "\n",
       "    .dataframe tbody tr th {\n",
       "        vertical-align: top;\n",
       "    }\n",
       "\n",
       "    .dataframe thead th {\n",
       "        text-align: right;\n",
       "    }\n",
       "</style>\n",
       "<table border=\"1\" class=\"dataframe\">\n",
       "  <thead>\n",
       "    <tr style=\"text-align: right;\">\n",
       "      <th></th>\n",
       "      <th>harga_produk</th>\n",
       "      <th>total_terjual</th>\n",
       "      <th>pendapatan</th>\n",
       "      <th>netto</th>\n",
       "    </tr>\n",
       "  </thead>\n",
       "  <tbody>\n",
       "    <tr>\n",
       "      <th>0</th>\n",
       "      <td>14300</td>\n",
       "      <td>75</td>\n",
       "      <td>1072500</td>\n",
       "      <td>97500</td>\n",
       "    </tr>\n",
       "    <tr>\n",
       "      <th>1</th>\n",
       "      <td>24750</td>\n",
       "      <td>12</td>\n",
       "      <td>297000</td>\n",
       "      <td>27000</td>\n",
       "    </tr>\n",
       "    <tr>\n",
       "      <th>2</th>\n",
       "      <td>4598</td>\n",
       "      <td>300</td>\n",
       "      <td>1379400</td>\n",
       "      <td>125400</td>\n",
       "    </tr>\n",
       "    <tr>\n",
       "      <th>3</th>\n",
       "      <td>12650</td>\n",
       "      <td>75</td>\n",
       "      <td>948750</td>\n",
       "      <td>86250</td>\n",
       "    </tr>\n",
       "    <tr>\n",
       "      <th>4</th>\n",
       "      <td>25850</td>\n",
       "      <td>75</td>\n",
       "      <td>1938750</td>\n",
       "      <td>176250</td>\n",
       "    </tr>\n",
       "  </tbody>\n",
       "</table>\n",
       "</div>"
      ],
      "text/plain": [
       "   harga_produk  total_terjual  pendapatan   netto\n",
       "0         14300             75     1072500   97500\n",
       "1         24750             12      297000   27000\n",
       "2          4598            300     1379400  125400\n",
       "3         12650             75      948750   86250\n",
       "4         25850             75     1938750  176250"
      ]
     },
     "execution_count": 220,
     "metadata": {},
     "output_type": "execute_result"
    }
   ],
   "source": [
    "df_profit = df_ana[['harga_produk', 'total_terjual', 'pendapatan']].copy()\n",
    "list_netto = []\n",
    "\n",
    "# turn column into floats to avoid error\n",
    "df_profit['harga_produk'] = df_profit['harga_produk'].astype(float)\n",
    "df_profit['total_terjual'] = df_profit['total_terjual'].astype(float)\n",
    "df_profit['pendapatan'] = df_profit['pendapatan'].astype(float)\n",
    "\n",
    "for i in range (len(df_profit)):\n",
    "    df_profit['harga_produk'][i] *= 1.1\n",
    "    df_profit['total_terjual'][i] *= 0.3\n",
    "    df_profit['pendapatan'][i] = df_profit['harga_produk'][i] * df_profit['total_terjual'][i]\n",
    "    list_netto.append(int(df_profit['pendapatan'][i] - (df_ana['harga_produk'][i] * df_profit['total_terjual'][i])))\n",
    "\n",
    "# turn column back into int\n",
    "df_profit['harga_produk'] = df_profit['harga_produk'].astype(int)\n",
    "df_profit['total_terjual'] = df_profit['total_terjual'].astype(int)\n",
    "df_profit['pendapatan'] = df_profit['pendapatan'].astype(int)\n",
    "\n",
    "# add new column 'netto'\n",
    "df_profit['netto'] = list_netto\n",
    "\n",
    "df_profit.head()"
   ]
  },
  {
   "cell_type": "markdown",
   "metadata": {},
   "source": [
    "Dengan tabel yang baru, saya akan hitung netto max/min dengan confidence interval"
   ]
  },
  {
   "cell_type": "code",
   "execution_count": 221,
   "metadata": {},
   "outputs": [
    {
     "name": "stdout",
     "output_type": "stream",
     "text": [
      "Lower Limit: 38252.57\n",
      "Upper Limit: 288514.12\n"
     ]
    }
   ],
   "source": [
    "std = df_profit['netto'].std()\n",
    "N = len(df_profit)\n",
    "\n",
    "# confidence interval formula\n",
    "low, up = st.norm.interval(0.95,loc=df_profit['netto'].mean(),scale=std/np.sqrt(N))\n",
    "print('Lower Limit:', round(low, 2))\n",
    "print('Upper Limit:', round(up, 2))"
   ]
  },
  {
   "cell_type": "markdown",
   "metadata": {},
   "source": [
    "##### \\# Insight: <br>\n",
    "Dengan asumsi perhitungan komisi dan penjualan yang saya tentukan, potensi pendapatan maksimal saya adalah 288514.12 (288 ribu) rupiah per unit per bulan"
   ]
  },
  {
   "cell_type": "markdown",
   "metadata": {},
   "source": [
    "### 2nd Consideration: Price Difference"
   ]
  },
  {
   "cell_type": "markdown",
   "metadata": {},
   "source": [
    "Karena saya tinggal di Jakarta, maka penting untuk saya membandingkan harga seblak di Jabodetabek dan di luar Jabodetabek."
   ]
  },
  {
   "cell_type": "code",
   "execution_count": 222,
   "metadata": {},
   "outputs": [
    {
     "name": "stdout",
     "output_type": "stream",
     "text": [
      "Rata-rata harga produk dalam jabodetabek: 23599.271186440677\n",
      "Rata-rata harga produk luar jabodetabek: 31241.54054054054\n"
     ]
    }
   ],
   "source": [
    "# filter the dataframe based on column jabodetabek\n",
    "dalam_jabodetabek = df_ana[df_ana['jabodetabek'] == True]['harga_produk']\n",
    "luar_jabodetabek = df_ana[df_ana['jabodetabek'] == False]['harga_produk']\n",
    "\n",
    "print('Rata-rata harga produk dalam jabodetabek:', dalam_jabodetabek.mean())\n",
    "print('Rata-rata harga produk luar jabodetabek:', luar_jabodetabek.mean())"
   ]
  },
  {
   "cell_type": "markdown",
   "metadata": {},
   "source": [
    "Perbedaan harga tidak terlihat terlalu signifikan. Untuk memastikannya, saya akan melakukan uji hipotesa: <br><br>\n",
    "\n",
    "H0: Harga produk Jabodetabek == harga produk luar Jabodetabek. <br>\n",
    "H1: Harga produk Jabodetabek != harga produk luar Jabodetabek.\n",
    "<br><br>\n",
    "\n",
    "Karena saya membandingkan signifikansi dari 2 data independen, maka saya menggunakan methode two-sample independent test untuk menguji hipotesa saya."
   ]
  },
  {
   "cell_type": "code",
   "execution_count": 223,
   "metadata": {},
   "outputs": [
    {
     "name": "stdout",
     "output_type": "stream",
     "text": [
      "T-Statistic: -1.260742517208312\n",
      "P-value: 0.21052198503161534\n"
     ]
    }
   ],
   "source": [
    "# two-sample test independent\n",
    "t_stat, p_val = st.ttest_ind(dalam_jabodetabek, luar_jabodetabek)\n",
    "print('T-Statistic:', t_stat)\n",
    "print('P-value:', p_val)"
   ]
  },
  {
   "cell_type": "markdown",
   "metadata": {},
   "source": [
    "Di sini dapat dilihat bahwa P-value > 0.05, maka hipotesis null saya diterima dan artinya perbedaan harga produk di dalam/luar Jabodetabek tidak signifikan."
   ]
  },
  {
   "cell_type": "markdown",
   "metadata": {},
   "source": [
    "##### \\# Insight: <br>\n",
    "Data menunjukkan bahwa perbedaan harga dalam/luar Jabodetabek tidak signifikan. Karena perhitungan komisi saya berdasarkan persentase harga produk, maka penjualan produk yang berasal dari dalam/luar Jabodetabek tidak berpengaruh terhadap keuntungan saya."
   ]
  },
  {
   "cell_type": "markdown",
   "metadata": {},
   "source": [
    "### 3rd Consideration: Price-Sales Correlation"
   ]
  },
  {
   "cell_type": "markdown",
   "metadata": {},
   "source": [
    "Saya juga ingin mengetahui apakah ada hubungan antara harga dengan penjualan. Apakah dengan harga yang lebih murah maka orang akan lebih tertarik untuk membeli ?"
   ]
  },
  {
   "cell_type": "code",
   "execution_count": 140,
   "metadata": {},
   "outputs": [
    {
     "name": "stdout",
     "output_type": "stream",
     "text": [
      "r-correlation: -0.11, p-value: 0.27330969861378596\n",
      "rho-correlation: -0.33, p-value: 0.001156199823794192\n",
      "tau-correlation: -0.23, p-value: 0.0010574053530211138\n"
     ]
    }
   ],
   "source": [
    "corr_r, pval_p = st.pearsonr(df_ana['harga_produk'], df_ana['total_terjual'])       # Pearson r\n",
    "corr_rho, pval_s = st.spearmanr(df_ana['harga_produk'], df_ana['total_terjual'])    # Spearman rho\n",
    "corr_tau, pval_k = st.kendalltau(df_ana['harga_produk'], df_ana['total_terjual'])   # Kendall tau\n",
    "\n",
    "print(f\"r-correlation: {corr_r:.2f}, p-value: {pval_p}\")\n",
    "print(f\"rho-correlation: {corr_rho:.2f}, p-value: {pval_s}\")\n",
    "print(f\"tau-correlation: {corr_tau:.2f}, p-value: {pval_k}\")"
   ]
  },
  {
   "cell_type": "markdown",
   "metadata": {},
   "source": [
    "Hasil tes menunjukkan bahwa secara umum korelasi antara kedua kolom bersifat negatif. Namun ada beberapa pertimbangan untuk menginterpretasi hasil tes di atas: <br>\n",
    "<b>Pearson r-correlation</b> test berlaku untuk linear relationship antara 2 data kuantitatif <u>dengan asumsi</u> distribusi data normal. <br>\n",
    "<b>Spearman rho-correlation</b> test berlaku secara lebih luas biasanya untuk data kuantitatif tapi termasuk untuk relasi non-linear dan distribusi tidak normal. <br>\n",
    "<b>Kendall tau-correlation</b> test biasanya digunakan untuk data kualitatif. <br>\n",
    "<br>\n",
    "Dengan pertimbangan di atas, Spearman rho-correlation merupakan tes yang paling memadai untuk menguji korelasi antara harga produk dengan total penjualan."
   ]
  },
  {
   "cell_type": "markdown",
   "metadata": {},
   "source": [
    "Untuk metode Spearman rho-correlation, hipotesa yang digunakan adalah: <br>\n",
    "H0 : tidak ada korelasi antara kedua variabel <br>\n",
    "H1 : ada korelasi antara kedua variabel\n",
    "<br><br>\n",
    "\n",
    "P-value yang kecil (< 0.05) menyatakan bahwa hipotesis null saya diterima. <br>\n",
    "rho-correlation negatif menyatakan bahwa korelasi kedua variabel berbanding terbalik. <br>\n",
    "Konklusi -> Ada hubungan langsung antara harga produk dan total penjualan, di mana semakin tinggi harga produk semakin rendah jumlah penjualan dan begitu juga sebaliknya."
   ]
  },
  {
   "cell_type": "markdown",
   "metadata": {},
   "source": [
    "Supaya hubungan kedua data terlihat lebih jelas, saya menampilkan scatterplot sederhana"
   ]
  },
  {
   "cell_type": "code",
   "execution_count": 224,
   "metadata": {},
   "outputs": [
    {
     "data": {
      "image/png": "[encoded data removed]",
      "text/plain": [
       "<Figure size 640x480 with 1 Axes>"
      ]
     },
     "metadata": {},
     "output_type": "display_data"
    }
   ],
   "source": [
    "import matplotlib.pyplot as plt\n",
    "\n",
    "plt.scatter(df_ana['harga_produk'], df_ana['total_terjual'])\n",
    "\n",
    "plt.xlabel('harga_produk')\n",
    "plt.ylabel('total_terjual')\n",
    "plt.title('harga_produk vs. total_terjual')\n",
    "\n",
    "plt.show()"
   ]
  },
  {
   "cell_type": "markdown",
   "metadata": {},
   "source": [
    "##### \\# Insight: <br>\n",
    "Karena bisa dibilang bahwa harga produk mempengaruhi total penjualan dan begitu juga sebaliknya, maka untuk mendapatkan kandidat produk dengan prospek pendapatan terbesar, perlu memperhatikan kedua variabel tersebut dan mencari produk dengan hasil kali dari harga dan total penjualan (artinya total pendapatan) tertinggi."
   ]
  },
  {
   "cell_type": "markdown",
   "metadata": {},
   "source": [
    "## 5. Conclusion"
   ]
  },
  {
   "cell_type": "markdown",
   "metadata": {},
   "source": [
    "Untuk mengambil kesimpulan akhir, saya akan menunjukkan 5 produk dengan profit per bulan terbesar."
   ]
  },
  {
   "cell_type": "code",
   "execution_count": 225,
   "metadata": {},
   "outputs": [
    {
     "data": {
      "text/html": [
       "<div>\n",
       "<style scoped>\n",
       "    .dataframe tbody tr th:only-of-type {\n",
       "        vertical-align: middle;\n",
       "    }\n",
       "\n",
       "    .dataframe tbody tr th {\n",
       "        vertical-align: top;\n",
       "    }\n",
       "\n",
       "    .dataframe thead th {\n",
       "        text-align: right;\n",
       "    }\n",
       "</style>\n",
       "<table border=\"1\" class=\"dataframe\">\n",
       "  <thead>\n",
       "    <tr style=\"text-align: right;\">\n",
       "      <th></th>\n",
       "      <th>nama_produk</th>\n",
       "      <th>harga_produk</th>\n",
       "      <th>nama_penjual</th>\n",
       "      <th>kota_toko</th>\n",
       "      <th>total_terjual</th>\n",
       "      <th>rating</th>\n",
       "      <th>jabodetabek</th>\n",
       "      <th>pendapatan</th>\n",
       "      <th>netto</th>\n",
       "    </tr>\n",
       "  </thead>\n",
       "  <tbody>\n",
       "    <tr>\n",
       "      <th>51</th>\n",
       "      <td>Kylafood Seblak Tulang Rawan</td>\n",
       "      <td>24500</td>\n",
       "      <td>kylafood</td>\n",
       "      <td>Bandung</td>\n",
       "      <td>8000</td>\n",
       "      <td>4.9</td>\n",
       "      <td>False</td>\n",
       "      <td>196000000</td>\n",
       "      <td>5880000</td>\n",
       "    </tr>\n",
       "    <tr>\n",
       "      <th>55</th>\n",
       "      <td>PAKET HEMAT (2 Seblak original - Seblak Karuhu...</td>\n",
       "      <td>56250</td>\n",
       "      <td>kylafood</td>\n",
       "      <td>Bandung</td>\n",
       "      <td>750</td>\n",
       "      <td>4.9</td>\n",
       "      <td>False</td>\n",
       "      <td>42187500</td>\n",
       "      <td>1265625</td>\n",
       "    </tr>\n",
       "    <tr>\n",
       "      <th>5</th>\n",
       "      <td>SEBLAK INSTANT TERMURAH</td>\n",
       "      <td>3999</td>\n",
       "      <td>Pusat Cuankie &amp; Cemilan Frozen</td>\n",
       "      <td>Jakarta Timur</td>\n",
       "      <td>10000</td>\n",
       "      <td>4.8</td>\n",
       "      <td>True</td>\n",
       "      <td>39990000</td>\n",
       "      <td>1199700</td>\n",
       "    </tr>\n",
       "    <tr>\n",
       "      <th>38</th>\n",
       "      <td>Seblak Mommy</td>\n",
       "      <td>13900</td>\n",
       "      <td>Gerai Snack Official Shop</td>\n",
       "      <td>Kab. Tangerang</td>\n",
       "      <td>2000</td>\n",
       "      <td>4.6</td>\n",
       "      <td>True</td>\n",
       "      <td>27800000</td>\n",
       "      <td>834000</td>\n",
       "    </tr>\n",
       "    <tr>\n",
       "      <th>41</th>\n",
       "      <td>SEBLAK JELETET MURNI ( BOHAYY)</td>\n",
       "      <td>34000</td>\n",
       "      <td>Seblak Jeletet Murni</td>\n",
       "      <td>Jakarta Pusat</td>\n",
       "      <td>750</td>\n",
       "      <td>4.8</td>\n",
       "      <td>True</td>\n",
       "      <td>25500000</td>\n",
       "      <td>765000</td>\n",
       "    </tr>\n",
       "  </tbody>\n",
       "</table>\n",
       "</div>"
      ],
      "text/plain": [
       "                                          nama_produk  harga_produk  \\\n",
       "51                       Kylafood Seblak Tulang Rawan         24500   \n",
       "55  PAKET HEMAT (2 Seblak original - Seblak Karuhu...         56250   \n",
       "5                             SEBLAK INSTANT TERMURAH          3999   \n",
       "38                                       Seblak Mommy         13900   \n",
       "41                     SEBLAK JELETET MURNI ( BOHAYY)         34000   \n",
       "\n",
       "                      nama_penjual       kota_toko  total_terjual  rating  \\\n",
       "51                        kylafood         Bandung           8000     4.9   \n",
       "55                        kylafood         Bandung            750     4.9   \n",
       "5   Pusat Cuankie & Cemilan Frozen   Jakarta Timur          10000     4.8   \n",
       "38       Gerai Snack Official Shop  Kab. Tangerang           2000     4.6   \n",
       "41            Seblak Jeletet Murni   Jakarta Pusat            750     4.8   \n",
       "\n",
       "    jabodetabek  pendapatan    netto  \n",
       "51        False   196000000  5880000  \n",
       "55        False    42187500  1265625  \n",
       "5          True    39990000  1199700  \n",
       "38         True    27800000   834000  \n",
       "41         True    25500000   765000  "
      ]
     },
     "execution_count": 225,
     "metadata": {},
     "output_type": "execute_result"
    }
   ],
   "source": [
    "df_final = df_ana.copy()\n",
    "df_final['netto'] = df_profit['netto']\n",
    "df_final.sort_values('netto', ascending=False).head()"
   ]
  },
  {
   "cell_type": "markdown",
   "metadata": {},
   "source": [
    "Dengan 5 produk di atas sebagai kandidat, saya akan memperbarui tabel saya dengan harga, penjualan, pendapatan dan netto dropship."
   ]
  },
  {
   "cell_type": "code",
   "execution_count": 226,
   "metadata": {},
   "outputs": [],
   "source": [
    "df_final[['harga_produk', 'total_terjual', 'pendapatan']] = df_profit[['harga_produk', 'total_terjual', 'pendapatan']]\n",
    "df_final = df_final.sort_values('netto', ascending=False, ignore_index=True).head()"
   ]
  },
  {
   "cell_type": "code",
   "execution_count": 227,
   "metadata": {},
   "outputs": [
    {
     "data": {
      "text/html": [
       "<div>\n",
       "<style scoped>\n",
       "    .dataframe tbody tr th:only-of-type {\n",
       "        vertical-align: middle;\n",
       "    }\n",
       "\n",
       "    .dataframe tbody tr th {\n",
       "        vertical-align: top;\n",
       "    }\n",
       "\n",
       "    .dataframe thead th {\n",
       "        text-align: right;\n",
       "    }\n",
       "</style>\n",
       "<table border=\"1\" class=\"dataframe\">\n",
       "  <thead>\n",
       "    <tr style=\"text-align: right;\">\n",
       "      <th></th>\n",
       "      <th>nama_produk</th>\n",
       "      <th>harga_produk</th>\n",
       "      <th>nama_penjual</th>\n",
       "      <th>kota_toko</th>\n",
       "      <th>total_terjual</th>\n",
       "      <th>rating</th>\n",
       "      <th>jabodetabek</th>\n",
       "      <th>pendapatan</th>\n",
       "      <th>netto</th>\n",
       "    </tr>\n",
       "  </thead>\n",
       "  <tbody>\n",
       "    <tr>\n",
       "      <th>0</th>\n",
       "      <td>Kylafood Seblak Tulang Rawan</td>\n",
       "      <td>26950</td>\n",
       "      <td>kylafood</td>\n",
       "      <td>Bandung</td>\n",
       "      <td>2400</td>\n",
       "      <td>4.9</td>\n",
       "      <td>False</td>\n",
       "      <td>64680000</td>\n",
       "      <td>5880000</td>\n",
       "    </tr>\n",
       "    <tr>\n",
       "      <th>1</th>\n",
       "      <td>PAKET HEMAT (2 Seblak original - Seblak Karuhu...</td>\n",
       "      <td>61875</td>\n",
       "      <td>kylafood</td>\n",
       "      <td>Bandung</td>\n",
       "      <td>225</td>\n",
       "      <td>4.9</td>\n",
       "      <td>False</td>\n",
       "      <td>13921875</td>\n",
       "      <td>1265625</td>\n",
       "    </tr>\n",
       "    <tr>\n",
       "      <th>2</th>\n",
       "      <td>SEBLAK INSTANT TERMURAH</td>\n",
       "      <td>4398</td>\n",
       "      <td>Pusat Cuankie &amp; Cemilan Frozen</td>\n",
       "      <td>Jakarta Timur</td>\n",
       "      <td>3000</td>\n",
       "      <td>4.8</td>\n",
       "      <td>True</td>\n",
       "      <td>13196700</td>\n",
       "      <td>1199700</td>\n",
       "    </tr>\n",
       "    <tr>\n",
       "      <th>3</th>\n",
       "      <td>Seblak Mommy</td>\n",
       "      <td>15290</td>\n",
       "      <td>Gerai Snack Official Shop</td>\n",
       "      <td>Kab. Tangerang</td>\n",
       "      <td>600</td>\n",
       "      <td>4.6</td>\n",
       "      <td>True</td>\n",
       "      <td>9174000</td>\n",
       "      <td>834000</td>\n",
       "    </tr>\n",
       "    <tr>\n",
       "      <th>4</th>\n",
       "      <td>SEBLAK JELETET MURNI ( BOHAYY)</td>\n",
       "      <td>37400</td>\n",
       "      <td>Seblak Jeletet Murni</td>\n",
       "      <td>Jakarta Pusat</td>\n",
       "      <td>225</td>\n",
       "      <td>4.8</td>\n",
       "      <td>True</td>\n",
       "      <td>8415000</td>\n",
       "      <td>765000</td>\n",
       "    </tr>\n",
       "  </tbody>\n",
       "</table>\n",
       "</div>"
      ],
      "text/plain": [
       "                                         nama_produk  harga_produk  \\\n",
       "0                       Kylafood Seblak Tulang Rawan         26950   \n",
       "1  PAKET HEMAT (2 Seblak original - Seblak Karuhu...         61875   \n",
       "2                            SEBLAK INSTANT TERMURAH          4398   \n",
       "3                                       Seblak Mommy         15290   \n",
       "4                     SEBLAK JELETET MURNI ( BOHAYY)         37400   \n",
       "\n",
       "                     nama_penjual       kota_toko  total_terjual  rating  \\\n",
       "0                        kylafood         Bandung           2400     4.9   \n",
       "1                        kylafood         Bandung            225     4.9   \n",
       "2  Pusat Cuankie & Cemilan Frozen   Jakarta Timur           3000     4.8   \n",
       "3       Gerai Snack Official Shop  Kab. Tangerang            600     4.6   \n",
       "4            Seblak Jeletet Murni   Jakarta Pusat            225     4.8   \n",
       "\n",
       "   jabodetabek  pendapatan    netto  \n",
       "0        False    64680000  5880000  \n",
       "1        False    13921875  1265625  \n",
       "2         True    13196700  1199700  \n",
       "3         True     9174000   834000  \n",
       "4         True     8415000   765000  "
      ]
     },
     "metadata": {},
     "output_type": "display_data"
    },
    {
     "name": "stdout",
     "output_type": "stream",
     "text": [
      "Expected monthly netto value: 9944325\n"
     ]
    }
   ],
   "source": [
    "display(df_final)\n",
    "print(f'Expected monthly netto value: {df_final[\"netto\"].sum()}')"
   ]
  },
  {
   "cell_type": "markdown",
   "metadata": {},
   "source": [
    "***\n",
    "### Kesimpulan\n",
    "Dengan menjual kelima produk di atas dengan cara dropship, mempertimbangkan komisi 10% dari harga produk dan penjualan 1% dari total penjualan produk setiap hari, maka saya akan mendapatkan pendapatan bersih sebesar 9944325 (9.9 juta) rupiah setiap bulan. <br>\n",
    "Target awal saya untuk memperoleh pendapatan sebesar 2 juta rupiah setiap bulan dapat tercapai hanya dengan melakukan dropship untuk 1 produk saja: 'Kylafood Seblak Tulang Rawan' <br>\n",
    "atau bisa juga dengan menjalankan dropship untuk kombinasi 2 dari 3 produk: 'PAKET HEMAT (2 Seblak original - Seblak Karuhun - Cireng Bumbu Rujak)', 'SEBLAK INSTANT TERMURAH', 'Seblak Mommy'.\n",
    "<br><br>\n",
    "Semakin banyak variasi produk yang saya jual, semakin besar pula investasi waktu/tenaga yang harus saya keluarkan, tapi semakin besar juga pendapatan per bulan saya. <br>\n",
    "***"
   ]
  }
 ],
 "metadata": {
  "kernelspec": {
   "display_name": "base",
   "language": "python",
   "name": "python3"
  },
  "language_info": {
   "codemirror_mode": {
    "name": "ipython",
    "version": 3
   },
   "file_extension": ".py",
   "mimetype": "text/x-python",
   "name": "python",
   "nbconvert_exporter": "python",
   "pygments_lexer": "ipython3",
   "version": "3.11.5"
  }
 },
 "nbformat": 4,
 "nbformat_minor": 2
}
